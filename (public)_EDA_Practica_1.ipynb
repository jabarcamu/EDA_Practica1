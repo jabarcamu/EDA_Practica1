{
  "nbformat": 4,
  "nbformat_minor": 0,
  "metadata": {
    "colab": {
      "name": "(public) EDA_Practica_1.ipynb",
      "provenance": [],
      "collapsed_sections": [],
      "authorship_tag": "ABX9TyMjmS2NfKywgKBC/UrIbwIT",
      "include_colab_link": true
    },
    "kernelspec": {
      "display_name": "Python 3",
      "name": "python3"
    },
    "language_info": {
      "name": "python"
    }
  },
  "cells": [
    {
      "cell_type": "markdown",
      "metadata": {
        "id": "view-in-github",
        "colab_type": "text"
      },
      "source": [
        "<a href=\"https://colab.research.google.com/github/jabarcamu/EDA_Practica1/blob/master/(public)_EDA_Practica_1.ipynb\" target=\"_parent\"><img src=\"https://colab.research.google.com/assets/colab-badge.svg\" alt=\"Open In Colab\"/></a>"
      ]
    },
    {
      "cell_type": "markdown",
      "metadata": {
        "id": "OZJnG29eK3Ow"
      },
      "source": [
        "# 1 - Generacion de Codigo"
      ]
    },
    {
      "cell_type": "code",
      "metadata": {
        "colab": {
          "base_uri": "https://localhost:8080/"
        },
        "id": "xITl9AGSIpCx",
        "outputId": "f16346be-e119-42e0-ef5b-730ba6e293af"
      },
      "source": [
        "import numpy as np\n",
        "import os\n",
        "from tqdm import tqdm\n",
        "save_path_generatedFiles = \"generatedTestData\"\n",
        "if (os.path.isfile(save_path_generatedFiles)==False):\n",
        "  os.mkdir(save_path_generatedFiles)\n",
        "\n",
        "nameFiles_idx = np.concatenate((np.arange(100,501,400),np.arange(1000,10000,1000),np.arange(10000,100001,10000)),axis=None)\n",
        "\n",
        "dicPaths = {}\n",
        "for namefile in nameFiles_idx:\n",
        "  dicPaths.update({namefile:'generatedTestData/example_'+str(namefile)+\".txt\"})\n",
        "  #create specific file\n",
        "\n",
        "  f = open(dicPaths[namefile], \"w\")\n",
        "    #generar un nro aleatorio de 1 y 100'000\n",
        "  for i in tqdm(range(1,namefile+1)):\n",
        "    f.write(str(np.random.randint(1,100000,1)[0])+\"\\n\")\n",
        "  f.close()"
      ],
      "execution_count": null,
      "outputs": [
        {
          "output_type": "stream",
          "text": [
            "100%|██████████| 100/100 [00:00<00:00, 10037.58it/s]\n",
            "100%|██████████| 500/500 [00:00<00:00, 40277.18it/s]\n",
            "100%|██████████| 1000/1000 [00:00<00:00, 30389.10it/s]\n",
            "100%|██████████| 2000/2000 [00:00<00:00, 63935.61it/s]\n",
            "100%|██████████| 3000/3000 [00:00<00:00, 62104.41it/s]\n",
            "100%|██████████| 4000/4000 [00:00<00:00, 43339.88it/s]\n",
            "100%|██████████| 5000/5000 [00:00<00:00, 45200.75it/s]\n",
            "100%|██████████| 6000/6000 [00:00<00:00, 40328.68it/s]\n",
            "100%|██████████| 7000/7000 [00:00<00:00, 67698.89it/s]\n",
            "100%|██████████| 8000/8000 [00:00<00:00, 43084.12it/s]\n",
            "100%|██████████| 9000/9000 [00:00<00:00, 62706.37it/s]\n",
            "100%|██████████| 10000/10000 [00:00<00:00, 57067.46it/s]\n",
            "100%|██████████| 20000/20000 [00:00<00:00, 55445.70it/s]\n",
            "100%|██████████| 30000/30000 [00:00<00:00, 54520.71it/s]\n",
            "100%|██████████| 40000/40000 [00:00<00:00, 55541.06it/s]\n",
            "100%|██████████| 50000/50000 [00:01<00:00, 42208.51it/s]\n",
            "100%|██████████| 60000/60000 [00:01<00:00, 58712.60it/s]\n",
            "100%|██████████| 70000/70000 [00:01<00:00, 52187.99it/s]\n",
            "100%|██████████| 80000/80000 [00:01<00:00, 49435.39it/s]\n",
            "100%|██████████| 90000/90000 [00:01<00:00, 47486.80it/s]\n",
            "100%|██████████| 100000/100000 [00:01<00:00, 55468.07it/s]\n"
          ],
          "name": "stderr"
        }
      ]
    },
    {
      "cell_type": "code",
      "metadata": {
        "colab": {
          "base_uri": "https://localhost:8080/"
        },
        "id": "rTYSdK_PKUzZ",
        "outputId": "d0094606-ae7e-434d-ca7d-2f545ea25ce2"
      },
      "source": [
        ""
      ],
      "execution_count": null,
      "outputs": [
        {
          "output_type": "stream",
          "text": [
            "EDA_Practica_1.ipynb\n"
          ],
          "name": "stdout"
        }
      ]
    },
    {
      "cell_type": "markdown",
      "metadata": {
        "id": "uABqqHXEWyGi"
      },
      "source": [
        "# 2. Selection Sort - Implementacion en Python"
      ]
    },
    {
      "cell_type": "code",
      "metadata": {
        "colab": {
          "base_uri": "https://localhost:8080/"
        },
        "id": "EaPqqX-nKdnL",
        "outputId": "f2658f23-9bf1-46a7-dcf3-b7394e2db569"
      },
      "source": [
        "# Python program for implementation of Selection\n",
        "# Sort\n",
        "import numpy as np\n",
        "import sys\n",
        "import time\n",
        "import os\n",
        "from tqdm import tqdm\n",
        "\n",
        "'''\n",
        "A = []\n",
        "read = open(\"generatedTestData/example_100.txt\", \"r\")\n",
        "A = read.readlines()\n",
        "B = []\n",
        "for k in A:\n",
        "    B += [int(k.strip())]\n",
        "'''\n",
        "\n",
        "# Function to do selection sort\n",
        "def SelectionSort(A):\n",
        "  # Traverse through all array elements\n",
        "  for i in range(len(A)):\n",
        "     \n",
        "    # Find the minimum element in remaining\n",
        "    # unsorted array\n",
        "    min_idx = i\n",
        "    for j in range(i+1, len(A)):\n",
        "        if A[min_idx] > A[j]:\n",
        "            min_idx = j\n",
        "             \n",
        "    # Swap the found minimum element with\n",
        "    # the first element       \n",
        "    A[i], A[min_idx] = A[min_idx], A[i]\n",
        "\n",
        "#Initial State\n",
        "nameFiles_idx = np.concatenate((np.arange(100,501,400),np.arange(1000,10000,1000),np.arange(10000,100001,10000)),axis=None)\n",
        "\n",
        "file = open('selectionSort_python_time.txt', \"w\")\n",
        "dicPaths = {}\n",
        "for namefile in tqdm(nameFiles_idx):\n",
        "  dicPaths.update({namefile:'generatedTestData/example_'+str(namefile)+\".txt\"})\n",
        "  #create specific file\n",
        "\n",
        "  A=[]\n",
        "  with open(dicPaths[namefile], \"r\") as f:\n",
        "    for line in f:\n",
        "        A += [int(line.strip())]\n",
        "\n",
        "  start = time.process_time()\n",
        "\n",
        "  SelectionSort(A)\n",
        " \n",
        "  # Driver code to test above\n",
        "  result = time.process_time() - start\n",
        "  file.write(str(namefile) + ' ' + str(result) +\"\\n\")\n",
        "  print(\"\\n Sorted array\")\n",
        "  print(time.process_time() - start)\n",
        "  \n",
        "  #for i in range(len(A)):\n",
        "  #    print(\"%d\" %A[i])\n",
        "\n",
        "file.close()\n",
        "#end procedure"
      ],
      "execution_count": null,
      "outputs": [
        {
          "output_type": "stream",
          "text": [
            "  5%|▍         | 1/21 [00:00<00:09,  2.14it/s]"
          ],
          "name": "stderr"
        },
        {
          "output_type": "stream",
          "text": [
            "\n",
            " Sorted array\n",
            "0.0014315200000005746\n"
          ],
          "name": "stdout"
        },
        {
          "output_type": "stream",
          "text": [
            "\r 10%|▉         | 2/21 [00:00<00:07,  2.44it/s]"
          ],
          "name": "stderr"
        },
        {
          "output_type": "stream",
          "text": [
            "\n",
            " Sorted array\n",
            "0.011682908000000047\n"
          ],
          "name": "stdout"
        },
        {
          "output_type": "stream",
          "text": [
            "\r 14%|█▍        | 3/21 [00:01<00:07,  2.45it/s]"
          ],
          "name": "stderr"
        },
        {
          "output_type": "stream",
          "text": [
            "\n",
            " Sorted array\n",
            "0.05177633099999923\n"
          ],
          "name": "stdout"
        },
        {
          "output_type": "stream",
          "text": [
            "\r 19%|█▉        | 4/21 [00:01<00:07,  2.24it/s]"
          ],
          "name": "stderr"
        },
        {
          "output_type": "stream",
          "text": [
            "\n",
            " Sorted array\n",
            "0.19044251699999926\n"
          ],
          "name": "stdout"
        },
        {
          "output_type": "stream",
          "text": [
            "\r 24%|██▍       | 5/21 [00:02<00:09,  1.65it/s]"
          ],
          "name": "stderr"
        },
        {
          "output_type": "stream",
          "text": [
            "\n",
            " Sorted array\n",
            "0.43494312399999924\n"
          ],
          "name": "stdout"
        },
        {
          "output_type": "stream",
          "text": [
            "\r 29%|██▊       | 6/21 [00:03<00:11,  1.36it/s]"
          ],
          "name": "stderr"
        },
        {
          "output_type": "stream",
          "text": [
            "\n",
            " Sorted array\n",
            "0.7711047989999997\n"
          ],
          "name": "stdout"
        },
        {
          "output_type": "stream",
          "text": [
            "\r 33%|███▎      | 7/21 [00:05<00:14,  1.00s/it]"
          ],
          "name": "stderr"
        },
        {
          "output_type": "stream",
          "text": [
            "\n",
            " Sorted array\n",
            "1.2025870230000004\n"
          ],
          "name": "stdout"
        },
        {
          "output_type": "stream",
          "text": [
            "\r 38%|███▊      | 8/21 [00:07<00:17,  1.32s/it]"
          ],
          "name": "stderr"
        },
        {
          "output_type": "stream",
          "text": [
            "\n",
            " Sorted array\n",
            "1.7235819020000012\n"
          ],
          "name": "stdout"
        },
        {
          "output_type": "stream",
          "text": [
            "\r 43%|████▎     | 9/21 [00:10<00:21,  1.78s/it]"
          ],
          "name": "stderr"
        },
        {
          "output_type": "stream",
          "text": [
            "\n",
            " Sorted array\n",
            "2.3894506070000006\n"
          ],
          "name": "stdout"
        },
        {
          "output_type": "stream",
          "text": [
            "\r 48%|████▊     | 10/21 [00:13<00:25,  2.29s/it]"
          ],
          "name": "stderr"
        },
        {
          "output_type": "stream",
          "text": [
            "\n",
            " Sorted array\n",
            "3.057249452999999\n"
          ],
          "name": "stdout"
        },
        {
          "output_type": "stream",
          "text": [
            "\r 52%|█████▏    | 11/21 [00:17<00:28,  2.87s/it]"
          ],
          "name": "stderr"
        },
        {
          "output_type": "stream",
          "text": [
            "\n",
            " Sorted array\n",
            "3.8883026260000015\n"
          ],
          "name": "stdout"
        },
        {
          "output_type": "stream",
          "text": [
            "\r 57%|█████▋    | 12/21 [00:23<00:32,  3.57s/it]"
          ],
          "name": "stderr"
        },
        {
          "output_type": "stream",
          "text": [
            "\n",
            " Sorted array\n",
            "4.828284338000003\n"
          ],
          "name": "stdout"
        },
        {
          "output_type": "stream",
          "text": [
            "\r 62%|██████▏   | 13/21 [00:42<01:07,  8.42s/it]"
          ],
          "name": "stderr"
        },
        {
          "output_type": "stream",
          "text": [
            "\n",
            " Sorted array\n",
            "19.329546758\n"
          ],
          "name": "stdout"
        },
        {
          "output_type": "stream",
          "text": [
            "\r 67%|██████▋   | 14/21 [01:27<02:14, 19.16s/it]"
          ],
          "name": "stderr"
        },
        {
          "output_type": "stream",
          "text": [
            "\n",
            " Sorted array\n",
            "43.794549024\n"
          ],
          "name": "stdout"
        },
        {
          "output_type": "stream",
          "text": [
            "\r 71%|███████▏  | 15/21 [02:47<03:45, 37.59s/it]"
          ],
          "name": "stderr"
        },
        {
          "output_type": "stream",
          "text": [
            "\n",
            " Sorted array\n",
            "80.081369661\n"
          ],
          "name": "stdout"
        },
        {
          "output_type": "stream",
          "text": [
            "\r 76%|███████▌  | 16/21 [04:59<05:29, 65.83s/it]"
          ],
          "name": "stderr"
        },
        {
          "output_type": "stream",
          "text": [
            "\n",
            " Sorted array\n",
            "130.97473947499998\n"
          ],
          "name": "stdout"
        },
        {
          "output_type": "stream",
          "text": [
            "\r 81%|████████  | 17/21 [08:23<07:08, 107.17s/it]"
          ],
          "name": "stderr"
        },
        {
          "output_type": "stream",
          "text": [
            "\n",
            " Sorted array\n",
            "202.826834189\n"
          ],
          "name": "stdout"
        },
        {
          "output_type": "stream",
          "text": [
            "\r 86%|████████▌ | 18/21 [13:15<08:08, 162.83s/it]"
          ],
          "name": "stderr"
        },
        {
          "output_type": "stream",
          "text": [
            "\n",
            " Sorted array\n",
            "292.08708905699996\n"
          ],
          "name": "stdout"
        },
        {
          "output_type": "stream",
          "text": [
            "\r 90%|█████████ | 19/21 [19:55<07:47, 233.99s/it]"
          ],
          "name": "stderr"
        },
        {
          "output_type": "stream",
          "text": [
            "\n",
            " Sorted array\n",
            "399.078051607\n"
          ],
          "name": "stdout"
        },
        {
          "output_type": "stream",
          "text": [
            "\r 95%|█████████▌| 20/21 [28:32<05:18, 318.70s/it]"
          ],
          "name": "stderr"
        },
        {
          "output_type": "stream",
          "text": [
            "\n",
            " Sorted array\n",
            "514.992097823\n"
          ],
          "name": "stdout"
        },
        {
          "output_type": "stream",
          "text": [
            "100%|██████████| 21/21 [39:33<00:00, 113.04s/it]"
          ],
          "name": "stderr"
        },
        {
          "output_type": "stream",
          "text": [
            "\n",
            " Sorted array\n",
            "660.5170166860003\n"
          ],
          "name": "stdout"
        },
        {
          "output_type": "stream",
          "text": [
            "\n"
          ],
          "name": "stderr"
        }
      ]
    },
    {
      "cell_type": "code",
      "metadata": {
        "id": "Q5zzznx9PXuC"
      },
      "source": [
        ""
      ],
      "execution_count": null,
      "outputs": []
    },
    {
      "cell_type": "markdown",
      "metadata": {
        "id": "Cx5CER6TW2wd"
      },
      "source": [
        "# 3. Selection Sort - Implementacion en C++"
      ]
    },
    {
      "cell_type": "code",
      "metadata": {
        "colab": {
          "base_uri": "https://localhost:8080/"
        },
        "id": "sIY1PHMdW6o7",
        "outputId": "34d87033-ab00-4798-889d-e5b6d64763b1"
      },
      "source": [
        "%%writefile selection.cpp\n",
        "\n",
        "// C++ program for implementation of selection sort\n",
        "#include <bits/stdc++.h>\n",
        "#include <sstream>\n",
        "#include <string>\n",
        "#include <vector>\n",
        "#include <iostream>\n",
        "#include <fstream>\n",
        "\n",
        "using namespace std;\n",
        "\n",
        "void swap(int *xp, int *yp)\n",
        "{\n",
        "    int temp = *xp;\n",
        "    *xp = *yp;\n",
        "    *yp = temp;\n",
        "}\n",
        " \n",
        "void selectionSort(int arr[], int n)\n",
        "{\n",
        "    int i, j, min_idx;\n",
        " \n",
        "    // One by one move boundary of unsorted subarray\n",
        "    for (i = 0; i < n-1; i++)\n",
        "    {\n",
        "        // Find the minimum element in unsorted array\n",
        "        min_idx = i;\n",
        "        for (j = i+1; j < n; j++)\n",
        "        if (arr[j] < arr[min_idx])\n",
        "            min_idx = j;\n",
        " \n",
        "        // Swap the found minimum element with the first element\n",
        "        swap(&arr[min_idx], &arr[i]);\n",
        "    }\n",
        "}\n",
        " \n",
        "/* Function to print an array */\n",
        "void printArray(int arr[], int size)\n",
        "{\n",
        "    int i;\n",
        "    for (i=0; i < size; i++)\n",
        "        cout << arr[i] << \" \";\n",
        "    cout << endl;\n",
        "}\n",
        " \n",
        "// Driver program to test above functions\n",
        "int main()\n",
        "{\n",
        "    //int arr[] = {64, 25, 12, 22, 11};  \n",
        "\n",
        "    \n",
        "    vector<int> generate; \n",
        "    generate.push_back(100);\n",
        "    generate.push_back(500);\n",
        "\n",
        "    for(int i=1000 ; i < 10000 ; i+=1000) {\n",
        "        generate.push_back(i);\n",
        "    }\n",
        "    for(int i=10000 ; i < 100001 ; i+=10000) {\n",
        "        generate.push_back(i);\n",
        "    }\n",
        "    \n",
        "    ofstream myfile;\n",
        "    myfile.open (\"selectionSort_cpp_time.txt\");\n",
        " \n",
        "    for (int k = 0; k < generate.size(); k++) {\n",
        "        \n",
        "        ifstream infile1(\"generatedTestData/example_\" + to_string(generate[k]) + \".txt\");\n",
        "    \n",
        "        string linea;\n",
        "        int size = 0;\n",
        "        while (getline(infile1, linea))\n",
        "        {\n",
        "            istringstream iss(linea);        \n",
        "            size++;\n",
        "        }\n",
        "    \n",
        "        ifstream infile2(\"generatedTestData/example_\" + to_string(generate[k]) + \".txt\");\n",
        "\n",
        "        int arr[size];\n",
        "        int i=0;\n",
        "        string line;\n",
        "        while (getline(infile2, line))\n",
        "        {\n",
        "            istringstream iss(line);\n",
        "            int a;\n",
        "            if (!(iss >> a)) { break; } // error        \n",
        "            arr[i] = a;\n",
        "            i++;\n",
        "        }\n",
        "\n",
        "        int n = sizeof(arr)/sizeof(arr[0]); \n",
        "        \n",
        "\n",
        "        clock_t start, end;\n",
        "        start = clock();\n",
        "\n",
        "        selectionSort(arr, n);\n",
        "    \n",
        "        end = clock();\n",
        "    \n",
        "        \n",
        "        //printArray(arr, n);\n",
        "    \n",
        "        double time_taken = double(end - start) / double(CLOCKS_PER_SEC); \n",
        "    \n",
        "        cout << \"Sorted array:\";\n",
        "    \n",
        "        cout << \"\\n Time taken by program is : \" << fixed\n",
        "            << time_taken << setprecision(8);\n",
        "        cout << \" sec \" << endl;\n",
        "\n",
        "        //writting in the file\n",
        "        myfile << generate[k] << \" \"; \n",
        "        myfile << fixed << time_taken;    \n",
        "        myfile << \"\\n\";\n",
        "\n",
        "    }\n",
        "\n",
        "\n",
        "    myfile.close();\n",
        "    \n",
        " \n",
        "    return 0;\n",
        "\n",
        "}"
      ],
      "execution_count": null,
      "outputs": [
        {
          "output_type": "stream",
          "text": [
            "Overwriting selection.cpp\n"
          ],
          "name": "stdout"
        }
      ]
    },
    {
      "cell_type": "code",
      "metadata": {
        "colab": {
          "base_uri": "https://localhost:8080/"
        },
        "id": "KDGoSlEZY_hZ",
        "outputId": "6347168b-e353-4c4c-f3f2-a65471a65eae"
      },
      "source": [
        "%%script bash\n",
        "\n",
        "g++ selection.cpp -std=c++14\n",
        "./a.out"
      ],
      "execution_count": null,
      "outputs": [
        {
          "output_type": "stream",
          "text": [
            "Sorted array:\n",
            " Time taken by program is : 0.000020 sec \n",
            "Sorted array:\n",
            " Time taken by program is : 0.00042400 sec \n",
            "Sorted array:\n",
            " Time taken by program is : 0.00132800 sec \n",
            "Sorted array:\n",
            " Time taken by program is : 0.00512200 sec \n",
            "Sorted array:\n",
            " Time taken by program is : 0.01135700 sec \n",
            "Sorted array:\n",
            " Time taken by program is : 0.02919800 sec \n",
            "Sorted array:\n",
            " Time taken by program is : 0.03192600 sec \n",
            "Sorted array:\n",
            " Time taken by program is : 0.04659100 sec \n",
            "Sorted array:\n",
            " Time taken by program is : 0.06140100 sec \n",
            "Sorted array:\n",
            " Time taken by program is : 0.08603800 sec \n",
            "Sorted array:\n",
            " Time taken by program is : 0.12076000 sec \n",
            "Sorted array:\n",
            " Time taken by program is : 0.12985600 sec \n",
            "Sorted array:\n",
            " Time taken by program is : 0.52762500 sec \n",
            "Sorted array:\n",
            " Time taken by program is : 1.18371300 sec \n",
            "Sorted array:\n",
            " Time taken by program is : 2.11335600 sec \n",
            "Sorted array:\n",
            " Time taken by program is : 3.25039600 sec \n",
            "Sorted array:\n",
            " Time taken by program is : 4.72977900 sec \n",
            "Sorted array:\n",
            " Time taken by program is : 6.45715800 sec \n",
            "Sorted array:\n",
            " Time taken by program is : 8.42767800 sec \n",
            "Sorted array:\n",
            " Time taken by program is : 10.86088400 sec \n",
            "Sorted array:\n",
            " Time taken by program is : 13.17967800 sec \n"
          ],
          "name": "stdout"
        }
      ]
    },
    {
      "cell_type": "markdown",
      "metadata": {
        "id": "YemuMzo_Sdfy"
      },
      "source": [
        "# 3. Selection Sort - Implementacion en Java"
      ]
    },
    {
      "cell_type": "code",
      "metadata": {
        "colab": {
          "base_uri": "https://localhost:8080/"
        },
        "id": "GS9LjvbOSXI0",
        "outputId": "25dd0ca4-f514-4877-8c15-2845126e149b"
      },
      "source": [
        "%%writefile SelectionSort.java\n",
        "\n",
        "// Java program for implementation of Selection Sort\n",
        "\n",
        "import java.io.*;\n",
        "import java.lang.*;\n",
        "import java.util.ArrayList; \n",
        "\n",
        "class SelectionSort\n",
        "{\n",
        "    void sort(int arr[])\n",
        "    {\n",
        "        int n = arr.length;\n",
        " \n",
        "        // One by one move boundary of unsorted subarray\n",
        "        for (int i = 0; i < n-1; i++)\n",
        "        {\n",
        "            // Find the minimum element in unsorted array\n",
        "            int min_idx = i;\n",
        "            for (int j = i+1; j < n; j++)\n",
        "                if (arr[j] < arr[min_idx])\n",
        "                    min_idx = j;\n",
        " \n",
        "            // Swap the found minimum element with the first\n",
        "            // element\n",
        "            int temp = arr[min_idx];\n",
        "            arr[min_idx] = arr[i];\n",
        "            arr[i] = temp;\n",
        "        }\n",
        "    }\n",
        " \n",
        "    // Prints the array\n",
        "    void printArray(int arr[])\n",
        "    {\n",
        "        int n = arr.length;\n",
        "        for (int i=0; i<n; ++i)\n",
        "            System.out.print(arr[i]+\" \");\n",
        "        System.out.println();\n",
        "    }\n",
        " \n",
        "    // Driver code to test above\n",
        "    public static void main(String args[]) throws IOException\n",
        "    {\n",
        "       \n",
        "            ArrayList<Integer> generate = new ArrayList<Integer>(); \n",
        "            generate.add(100);\n",
        "            generate.add(500);\n",
        "            for(int i=1000 ; i < 10000 ; i+=1000) {\n",
        "                generate.add(i);\n",
        "            }\n",
        "            for(int i=10000 ; i < 100001 ; i+=10000) {\n",
        "                generate.add(i);\n",
        "            }\n",
        "\n",
        "            \n",
        "         \n",
        "            PrintWriter writer = new PrintWriter(\"selectionSort_java_time.txt\", \"UTF-8\");\n",
        "         \n",
        "            generate.forEach((n) -> {\n",
        "                ArrayList<Integer> lista = new ArrayList<Integer>();\n",
        "            \n",
        "                String file = \"generatedTestData/example_\"+ n.toString() +\".txt\";\n",
        "                try{\n",
        "                    BufferedReader bufferedReader = new BufferedReader(new FileReader(file));\n",
        "\n",
        "                    String curLine;\n",
        "                    while ((curLine = bufferedReader.readLine()) != null){\n",
        "                        //process the line as required\n",
        "                        //System.out.println(curLine);\n",
        "                        int num = Integer.parseInt(curLine);\n",
        "                        lista.add(num);\n",
        "                    }\n",
        "                    bufferedReader.close(); \n",
        "                }\n",
        "                catch (IOException ex)  \n",
        "                {\n",
        "                    // insert code to run when exception occurs\n",
        "                }\n",
        "            \n",
        "                int size = lista.size();\n",
        "            \n",
        "                System.out.println(\"Sorted array\" + size);\n",
        "            \n",
        "                int[] arr = new int[size];\n",
        "                for(int i=0; i < lista.size(); i++) {\n",
        "                    arr[i] = lista.get(i);\n",
        "                }\n",
        "\n",
        "                SelectionSort ob = new SelectionSort();\n",
        "\n",
        "                //int arr[] = {64,25,12,22,11};\n",
        "                double startTime = System.nanoTime();\n",
        "                ob.sort(arr);\n",
        "                double endTime = System.nanoTime();\n",
        "            \n",
        "                double duration = (endTime - startTime)/1000000;\n",
        "                System.out.println(\"Sorted array\");\n",
        "                //ob.printArray(arr);      \n",
        "                writer.println( n.toString() + ' ' + duration);\n",
        "            });            \n",
        "         \n",
        "            writer.close();   \n",
        "\n",
        "        \n",
        "    }\n",
        "}\n",
        "/* This code is contributed by Rajat Mishra*/"
      ],
      "execution_count": null,
      "outputs": [
        {
          "output_type": "stream",
          "text": [
            "Overwriting SelectionSort.java\n"
          ],
          "name": "stdout"
        }
      ]
    },
    {
      "cell_type": "code",
      "metadata": {
        "colab": {
          "base_uri": "https://localhost:8080/"
        },
        "id": "nJmgrNdBSW5N",
        "outputId": "fa26502e-6451-4dad-d311-7fb99bd4b92b"
      },
      "source": [
        "%%script bash\n",
        "javac SelectionSort.java\n",
        "java SelectionSort"
      ],
      "execution_count": null,
      "outputs": [
        {
          "output_type": "stream",
          "text": [
            "Sorted array100\n",
            "Sorted array\n",
            "Sorted array500\n",
            "Sorted array\n",
            "Sorted array1000\n",
            "Sorted array\n",
            "Sorted array2000\n",
            "Sorted array\n",
            "Sorted array3000\n",
            "Sorted array\n",
            "Sorted array4000\n",
            "Sorted array\n",
            "Sorted array5000\n",
            "Sorted array\n",
            "Sorted array6000\n",
            "Sorted array\n",
            "Sorted array7000\n",
            "Sorted array\n",
            "Sorted array8000\n",
            "Sorted array\n",
            "Sorted array9000\n",
            "Sorted array\n",
            "Sorted array10000\n",
            "Sorted array\n",
            "Sorted array20000\n",
            "Sorted array\n",
            "Sorted array30000\n",
            "Sorted array\n",
            "Sorted array40000\n",
            "Sorted array\n",
            "Sorted array50000\n",
            "Sorted array\n",
            "Sorted array60000\n",
            "Sorted array\n",
            "Sorted array70000\n",
            "Sorted array\n",
            "Sorted array80000\n",
            "Sorted array\n",
            "Sorted array90000\n",
            "Sorted array\n",
            "Sorted array100000\n",
            "Sorted array\n"
          ],
          "name": "stdout"
        }
      ]
    },
    {
      "cell_type": "markdown",
      "metadata": {
        "id": "rQu7UqHubPtK"
      },
      "source": [
        "# 4. Insertion Sort - Implementacion en Python"
      ]
    },
    {
      "cell_type": "code",
      "metadata": {
        "colab": {
          "base_uri": "https://localhost:8080/"
        },
        "id": "hb6x3QThbXBD",
        "outputId": "a4b8ea4a-0ef1-487f-d82e-d2fafce8f9b0"
      },
      "source": [
        "# Python program for implementation of Insertion Sort\n",
        "import numpy as np\n",
        "import sys\n",
        "import time\n",
        "import os\n",
        "from tqdm import tqdm\n",
        "\n",
        "# Function to do insertion sort\n",
        "def insertionSort(arr):\n",
        " \n",
        "    # Traverse through 1 to len(arr)\n",
        "    for i in range(1, len(arr)):\n",
        " \n",
        "        key = arr[i]\n",
        " \n",
        "        # Move elements of arr[0..i-1], that are\n",
        "        # greater than key, to one position ahead\n",
        "        # of their current position\n",
        "        j = i-1\n",
        "        while j >= 0 and key < arr[j] :\n",
        "                arr[j + 1] = arr[j]\n",
        "                j -= 1\n",
        "        arr[j + 1] = key \n",
        " \n",
        "#Initial State\n",
        "nameFiles_idx = np.concatenate((np.arange(100,501,400),np.arange(1000,10000,1000),np.arange(10000,100001,10000)),axis=None)\n",
        "\n",
        "file = open('insertionSort_python_time.txt', \"w\")\n",
        "dicPaths = {}\n",
        "for namefile in tqdm(nameFiles_idx):\n",
        "  dicPaths.update({namefile:'generatedTestData/example_'+str(namefile)+\".txt\"})\n",
        "  #create specific file\n",
        "\n",
        "  arr=[]\n",
        "  with open(dicPaths[namefile], \"r\") as f:\n",
        "    for line in f:\n",
        "        arr += [int(line.strip())]\n",
        "\n",
        "  start = time.process_time()\n",
        "\n",
        "  insertionSort(arr)\n",
        "\n",
        "  # Driver code to test above\n",
        "  result = time.process_time() - start\n",
        "  file.write(str(namefile) + ' ' + str(result) +\"\\n\")\n",
        "  print(\"\\n Sorted array\")\n",
        "  print(time.process_time() - start)\n",
        "\n",
        "file.close()\n",
        "#for i in range(len(arr)):\n",
        "#    print (\"% d\" % arr[i])\n",
        " \n",
        "# This code is contributed by Mohit Kumra"
      ],
      "execution_count": null,
      "outputs": [
        {
          "output_type": "stream",
          "text": [
            "\r  0%|          | 0/21 [00:00<?, ?it/s]"
          ],
          "name": "stderr"
        },
        {
          "output_type": "stream",
          "text": [
            "\n",
            " Sorted array\n",
            "0.0012140199996792944\n",
            "\n",
            " Sorted array\n",
            "0.012084416000107012\n",
            "\n",
            " Sorted array\n",
            "0.055814625000039086\n"
          ],
          "name": "stdout"
        },
        {
          "output_type": "stream",
          "text": [
            "\r 19%|█▉        | 4/21 [00:00<00:01, 13.34it/s]"
          ],
          "name": "stderr"
        },
        {
          "output_type": "stream",
          "text": [
            "\n",
            " Sorted array\n",
            "0.2146150199996555\n"
          ],
          "name": "stdout"
        },
        {
          "output_type": "stream",
          "text": [
            "\r 24%|██▍       | 5/21 [00:00<00:03,  4.96it/s]"
          ],
          "name": "stderr"
        },
        {
          "output_type": "stream",
          "text": [
            "\n",
            " Sorted array\n",
            "0.48652863999996043\n"
          ],
          "name": "stdout"
        },
        {
          "output_type": "stream",
          "text": [
            "\r 29%|██▊       | 6/21 [00:01<00:05,  2.55it/s]"
          ],
          "name": "stderr"
        },
        {
          "output_type": "stream",
          "text": [
            "\n",
            " Sorted array\n",
            "0.8238898320000771\n"
          ],
          "name": "stdout"
        },
        {
          "output_type": "stream",
          "text": [
            "\r 33%|███▎      | 7/21 [00:02<00:09,  1.48it/s]"
          ],
          "name": "stderr"
        },
        {
          "output_type": "stream",
          "text": [
            "\n",
            " Sorted array\n",
            "1.2918356539998967\n"
          ],
          "name": "stdout"
        },
        {
          "output_type": "stream",
          "text": [
            "\r 38%|███▊      | 8/21 [00:04<00:13,  1.03s/it]"
          ],
          "name": "stderr"
        },
        {
          "output_type": "stream",
          "text": [
            "\n",
            " Sorted array\n",
            "1.862137881000308\n"
          ],
          "name": "stdout"
        },
        {
          "output_type": "stream",
          "text": [
            "\r 43%|████▎     | 9/21 [00:07<00:18,  1.50s/it]"
          ],
          "name": "stderr"
        },
        {
          "output_type": "stream",
          "text": [
            "\n",
            " Sorted array\n",
            "2.569973074000245\n"
          ],
          "name": "stdout"
        },
        {
          "output_type": "stream",
          "text": [
            "\r 48%|████▊     | 10/21 [00:10<00:22,  2.06s/it]"
          ],
          "name": "stderr"
        },
        {
          "output_type": "stream",
          "text": [
            "\n",
            " Sorted array\n",
            "3.345103952000045\n"
          ],
          "name": "stdout"
        },
        {
          "output_type": "stream",
          "text": [
            "\r 52%|█████▏    | 11/21 [00:15<00:27,  2.73s/it]"
          ],
          "name": "stderr"
        },
        {
          "output_type": "stream",
          "text": [
            "\n",
            " Sorted array\n",
            "4.263105843000176\n"
          ],
          "name": "stdout"
        },
        {
          "output_type": "stream",
          "text": [
            "\r 57%|█████▋    | 12/21 [00:20<00:31,  3.47s/it]"
          ],
          "name": "stderr"
        },
        {
          "output_type": "stream",
          "text": [
            "\n",
            " Sorted array\n",
            "5.161239631000171\n"
          ],
          "name": "stdout"
        },
        {
          "output_type": "stream",
          "text": [
            "\r 62%|██████▏   | 13/21 [00:40<01:08,  8.61s/it]"
          ],
          "name": "stderr"
        },
        {
          "output_type": "stream",
          "text": [
            "\n",
            " Sorted array\n",
            "20.5632694359997\n"
          ],
          "name": "stdout"
        },
        {
          "output_type": "stream",
          "text": [
            "\r 67%|██████▋   | 14/21 [01:27<02:20, 20.06s/it]"
          ],
          "name": "stderr"
        },
        {
          "output_type": "stream",
          "text": [
            "\n",
            " Sorted array\n",
            "46.787573131000045\n"
          ],
          "name": "stdout"
        },
        {
          "output_type": "stream",
          "text": [
            "\r 71%|███████▏  | 15/21 [02:53<03:58, 39.68s/it]"
          ],
          "name": "stderr"
        },
        {
          "output_type": "stream",
          "text": [
            "\n",
            " Sorted array\n",
            "85.4024862590004\n"
          ],
          "name": "stdout"
        },
        {
          "output_type": "stream",
          "text": [
            "\r 76%|███████▌  | 16/21 [05:11<05:47, 69.41s/it]"
          ],
          "name": "stderr"
        },
        {
          "output_type": "stream",
          "text": [
            "\n",
            " Sorted array\n",
            "138.59688845200026\n"
          ],
          "name": "stdout"
        },
        {
          "output_type": "stream",
          "text": [
            "\r 81%|████████  | 17/21 [08:39<07:23, 110.99s/it]"
          ],
          "name": "stderr"
        },
        {
          "output_type": "stream",
          "text": [
            "\n",
            " Sorted array\n",
            "207.73130644599996\n"
          ],
          "name": "stdout"
        },
        {
          "output_type": "stream",
          "text": [
            "\r 86%|████████▌ | 18/21 [13:43<08:26, 168.84s/it]"
          ],
          "name": "stderr"
        },
        {
          "output_type": "stream",
          "text": [
            "\n",
            " Sorted array\n",
            "303.4769784599998\n"
          ],
          "name": "stdout"
        },
        {
          "output_type": "stream",
          "text": [
            "\r 90%|█████████ | 19/21 [20:27<07:58, 239.44s/it]"
          ],
          "name": "stderr"
        },
        {
          "output_type": "stream",
          "text": [
            "\n",
            " Sorted array\n",
            "403.638153161\n"
          ],
          "name": "stdout"
        },
        {
          "output_type": "stream",
          "text": [
            "\r 95%|█████████▌| 20/21 [29:34<05:31, 331.71s/it]"
          ],
          "name": "stderr"
        },
        {
          "output_type": "stream",
          "text": [
            "\n",
            " Sorted array\n",
            "545.7882657799996\n"
          ],
          "name": "stdout"
        },
        {
          "output_type": "stream",
          "text": [
            "100%|██████████| 21/21 [41:18<00:00, 118.04s/it]"
          ],
          "name": "stderr"
        },
        {
          "output_type": "stream",
          "text": [
            "\n",
            " Sorted array\n",
            "702.1976702339998\n"
          ],
          "name": "stdout"
        },
        {
          "output_type": "stream",
          "text": [
            "\n"
          ],
          "name": "stderr"
        }
      ]
    },
    {
      "cell_type": "markdown",
      "metadata": {
        "id": "f_e8LnmMccXe"
      },
      "source": [
        "# 5. Insertion Sort - Implementacion en C++"
      ]
    },
    {
      "cell_type": "code",
      "metadata": {
        "colab": {
          "base_uri": "https://localhost:8080/"
        },
        "id": "dKAMg7LDcinp",
        "outputId": "76764454-b986-4c1e-fecc-807687e6d090"
      },
      "source": [
        "%%writefile insertion.cpp\n",
        "\n",
        "// C++ program for insertion sort\n",
        "#include <bits/stdc++.h>\n",
        "#include <sstream>\n",
        "#include <string>\n",
        "#include <vector>\n",
        "#include <iostream>\n",
        "#include <fstream>\n",
        "\n",
        "using namespace std;\n",
        " \n",
        "/* Function to sort an array using insertion sort*/\n",
        "void insertionSort(int arr[], int n)\n",
        "{\n",
        "    int i, key, j;\n",
        "    for (i = 1; i < n; i++)\n",
        "    {\n",
        "        key = arr[i];\n",
        "        j = i - 1;\n",
        " \n",
        "        /* Move elements of arr[0..i-1], that are\n",
        "        greater than key, to one position ahead\n",
        "        of their current position */\n",
        "        while (j >= 0 && arr[j] > key)\n",
        "        {\n",
        "            arr[j + 1] = arr[j];\n",
        "            j = j - 1;\n",
        "        }\n",
        "        arr[j + 1] = key;\n",
        "    }\n",
        "}\n",
        " \n",
        "// A utility function to print an array of size n\n",
        "void printArray(int arr[], int n)\n",
        "{\n",
        "    int i;\n",
        "    for (i = 0; i < n; i++)\n",
        "        cout << arr[i] << \" \";\n",
        "    cout << endl;\n",
        "}\n",
        " \n",
        "/* Driver code */\n",
        "int main()\n",
        "{\n",
        "    //int arr[] = { 12, 11, 13, 5, 6 };\n",
        " \n",
        "    vector<int> generate; \n",
        "    generate.push_back(100);\n",
        "    generate.push_back(500);\n",
        "\n",
        "    for(int i=1000 ; i < 10000 ; i+=1000) {\n",
        "        generate.push_back(i);\n",
        "    }\n",
        "    for(int i=10000 ; i < 100001 ; i+=10000) {\n",
        "        generate.push_back(i);\n",
        "    }\n",
        "    \n",
        "    ofstream myfile;\n",
        "    myfile.open (\"insertionSort_cpp_time.txt\");\n",
        " \n",
        "    for (int k = 0; k < generate.size(); k++) {\n",
        " \n",
        "        ifstream infile1(\"generatedTestData/example_\" + to_string(generate[k]) + \".txt\");\n",
        "    \n",
        "        string linea;\n",
        "        int size = 0;\n",
        "        while (getline(infile1, linea))\n",
        "        {\n",
        "            istringstream iss(linea);        \n",
        "            size++;\n",
        "        }\n",
        "    \n",
        "        ifstream infile2(\"generatedTestData/example_\" + to_string(generate[k]) + \".txt\");\n",
        "\n",
        "        int arr[size];\n",
        "        int i=0;\n",
        "        string line;\n",
        "        while (getline(infile2, line))\n",
        "        {\n",
        "            istringstream iss(line);\n",
        "            int a;\n",
        "            if (!(iss >> a)) { break; } // error        \n",
        "            arr[i] = a;\n",
        "            i++;\n",
        "        }\n",
        "\n",
        "        int n = sizeof(arr) / sizeof(arr[0]);\n",
        "    \n",
        "        clock_t start, end;\n",
        "        start = clock();\n",
        "    \n",
        "        insertionSort(arr, n);\n",
        "\n",
        "        end = clock();\n",
        "\n",
        "        double time_taken = double(end - start) / double(CLOCKS_PER_SEC); \n",
        "    \n",
        "        cout << \"Sorted array:\";\n",
        "    \n",
        "        cout << \"\\n Time taken by program is : \" << fixed\n",
        "            << time_taken << setprecision(8);\n",
        "        cout << \" sec \" << endl;\n",
        "\n",
        "        //writting in the file\n",
        "        myfile << generate[k] << \" \"; \n",
        "        myfile << fixed << time_taken;    \n",
        "        myfile << \"\\n\";\n",
        "\n",
        "    }\n",
        " \n",
        "    myfile.close();\n",
        " \n",
        "    return 0;\n",
        "}\n",
        " \n",
        "// This is code is contributed by rathbhupendra"
      ],
      "execution_count": null,
      "outputs": [
        {
          "output_type": "stream",
          "text": [
            "Overwriting insertion.cpp\n"
          ],
          "name": "stdout"
        }
      ]
    },
    {
      "cell_type": "code",
      "metadata": {
        "colab": {
          "base_uri": "https://localhost:8080/"
        },
        "id": "B--AyCybdJFs",
        "outputId": "06b3aec4-4d77-474f-8201-f4fed0b8420c"
      },
      "source": [
        "%%script bash\n",
        "\n",
        "g++ insertion.cpp -std=c++14\n",
        "./a.out"
      ],
      "execution_count": null,
      "outputs": [
        {
          "output_type": "stream",
          "text": [
            "Sorted array:\n",
            " Time taken by program is : 0.000012 sec \n",
            "Sorted array:\n",
            " Time taken by program is : 0.00023500 sec \n",
            "Sorted array:\n",
            " Time taken by program is : 0.00086000 sec \n",
            "Sorted array:\n",
            " Time taken by program is : 0.00312800 sec \n",
            "Sorted array:\n",
            " Time taken by program is : 0.00798300 sec \n",
            "Sorted array:\n",
            " Time taken by program is : 0.01383200 sec \n",
            "Sorted array:\n",
            " Time taken by program is : 0.01879800 sec \n",
            "Sorted array:\n",
            " Time taken by program is : 0.03032600 sec \n",
            "Sorted array:\n",
            " Time taken by program is : 0.03611200 sec \n",
            "Sorted array:\n",
            " Time taken by program is : 0.05644000 sec \n",
            "Sorted array:\n",
            " Time taken by program is : 0.06138900 sec \n",
            "Sorted array:\n",
            " Time taken by program is : 0.07705400 sec \n",
            "Sorted array:\n",
            " Time taken by program is : 0.31129400 sec \n",
            "Sorted array:\n",
            " Time taken by program is : 0.68147200 sec \n",
            "Sorted array:\n",
            " Time taken by program is : 1.22779300 sec \n",
            "Sorted array:\n",
            " Time taken by program is : 1.88110800 sec \n",
            "Sorted array:\n",
            " Time taken by program is : 2.67597600 sec \n",
            "Sorted array:\n",
            " Time taken by program is : 3.68959600 sec \n",
            "Sorted array:\n",
            " Time taken by program is : 4.89487100 sec \n",
            "Sorted array:\n",
            " Time taken by program is : 6.03950300 sec \n",
            "Sorted array:\n",
            " Time taken by program is : 7.50060500 sec \n"
          ],
          "name": "stdout"
        }
      ]
    },
    {
      "cell_type": "code",
      "metadata": {
        "colab": {
          "base_uri": "https://localhost:8080/"
        },
        "id": "279C4elcNDUi",
        "outputId": "c7caba70-de0f-4aea-c183-91e13084918e"
      },
      "source": [
        "%%writefile InsertionSort.java\n",
        "\n",
        "import java.io.*;\n",
        "import java.lang.*;\n",
        "import java.util.ArrayList; \n",
        "\n",
        "// Java program for implementation of Insertion Sort\n",
        "class InsertionSort {\n",
        "    /*Function to sort array using insertion sort*/\n",
        "    void sort(int arr[])\n",
        "    {\n",
        "        int n = arr.length;\n",
        "        for (int i = 1; i < n; ++i) {\n",
        "            int key = arr[i];\n",
        "            int j = i - 1;\n",
        " \n",
        "            /* Move elements of arr[0..i-1], that are\n",
        "               greater than key, to one position ahead\n",
        "               of their current position */\n",
        "            while (j >= 0 && arr[j] > key) {\n",
        "                arr[j + 1] = arr[j];\n",
        "                j = j - 1;\n",
        "            }\n",
        "            arr[j + 1] = key;\n",
        "        }\n",
        "    }\n",
        " \n",
        "    /* A utility function to print array of size n*/\n",
        "    static void printArray(int arr[])\n",
        "    {\n",
        "        int n = arr.length;\n",
        "        for (int i = 0; i < n; ++i)\n",
        "            System.out.print(arr[i] + \" \");\n",
        " \n",
        "        System.out.println();\n",
        "    }\n",
        " \n",
        "    // Driver method\n",
        "    public static void main(String args[]) throws IOException\n",
        "    {\n",
        "        \n",
        "        ArrayList<Integer> generate = new ArrayList<Integer>(); \n",
        "            generate.add(100);\n",
        "            generate.add(500);\n",
        "            for(int i=1000 ; i < 10000 ; i+=1000) {\n",
        "                generate.add(i);\n",
        "            }\n",
        "            for(int i=10000 ; i < 100001 ; i+=10000) {\n",
        "                generate.add(i);\n",
        "            }\n",
        "\n",
        "            \n",
        "         \n",
        "            PrintWriter writer = new PrintWriter(\"insertionSort_java_time.txt\", \"UTF-8\");\n",
        "\n",
        "        generate.forEach((n) -> {\n",
        "                ArrayList<Integer> lista = new ArrayList<Integer>();\n",
        "            \n",
        "                String file = \"generatedTestData/example_\"+ n.toString() +\".txt\";\n",
        "                try{\n",
        "                    BufferedReader bufferedReader = new BufferedReader(new FileReader(file));\n",
        "\n",
        "                    String curLine;\n",
        "                    while ((curLine = bufferedReader.readLine()) != null){\n",
        "                        //process the line as required\n",
        "                        //System.out.println(curLine);\n",
        "                        int num = Integer.parseInt(curLine);\n",
        "                        lista.add(num);\n",
        "                    }\n",
        "                    bufferedReader.close(); \n",
        "                }\n",
        "                catch (IOException ex)  \n",
        "                {\n",
        "                    // insert code to run when exception occurs\n",
        "                }\n",
        "            \n",
        "                int size = lista.size();\n",
        "            \n",
        "                System.out.println(\"Sorted array\" + size);\n",
        "            \n",
        "                int[] arr = new int[size];\n",
        "                for(int i=0; i < lista.size(); i++) {\n",
        "                    arr[i] = lista.get(i);\n",
        "                }\n",
        "\n",
        "                InsertionSort ob = new InsertionSort();\n",
        "\n",
        "                //int arr[] = {64,25,12,22,11};\n",
        "                double startTime = System.nanoTime();\n",
        "                ob.sort(arr);\n",
        "                double endTime = System.nanoTime();\n",
        "            \n",
        "                double duration = (endTime - startTime)/1000000;\n",
        "                System.out.println(\"Sorted array\");\n",
        "                //ob.printArray(arr);      \n",
        "                writer.println( n.toString() + ' ' + duration);\n",
        "                   });            \n",
        "         \n",
        "            writer.close(); \n",
        "    }\n",
        "} /* This code is contributed by Rajat Mishra. */"
      ],
      "execution_count": null,
      "outputs": [
        {
          "output_type": "stream",
          "text": [
            "Overwriting InsertionSort.java\n"
          ],
          "name": "stdout"
        }
      ]
    },
    {
      "cell_type": "code",
      "metadata": {
        "colab": {
          "base_uri": "https://localhost:8080/"
        },
        "id": "LPBbFW16NbCa",
        "outputId": "8a26e2c3-21cc-4cba-aa24-62f654d552f4"
      },
      "source": [
        "%%script bash\n",
        "javac InsertionSort.java\n",
        "java InsertionSort\n"
      ],
      "execution_count": null,
      "outputs": [
        {
          "output_type": "stream",
          "text": [
            "Sorted array100\n",
            "Sorted array\n",
            "Sorted array500\n",
            "Sorted array\n",
            "Sorted array1000\n",
            "Sorted array\n",
            "Sorted array2000\n",
            "Sorted array\n",
            "Sorted array3000\n",
            "Sorted array\n",
            "Sorted array4000\n",
            "Sorted array\n",
            "Sorted array5000\n",
            "Sorted array\n",
            "Sorted array6000\n",
            "Sorted array\n",
            "Sorted array7000\n",
            "Sorted array\n",
            "Sorted array8000\n",
            "Sorted array\n",
            "Sorted array9000\n",
            "Sorted array\n",
            "Sorted array10000\n",
            "Sorted array\n",
            "Sorted array20000\n",
            "Sorted array\n",
            "Sorted array30000\n",
            "Sorted array\n",
            "Sorted array40000\n",
            "Sorted array\n",
            "Sorted array50000\n",
            "Sorted array\n",
            "Sorted array60000\n",
            "Sorted array\n",
            "Sorted array70000\n",
            "Sorted array\n",
            "Sorted array80000\n",
            "Sorted array\n",
            "Sorted array90000\n",
            "Sorted array\n",
            "Sorted array100000\n",
            "Sorted array\n"
          ],
          "name": "stdout"
        }
      ]
    },
    {
      "cell_type": "code",
      "metadata": {
        "colab": {
          "base_uri": "https://localhost:8080/",
          "height": 295
        },
        "id": "IB4AC08TglWS",
        "outputId": "eac5091a-cd89-4ce0-94fa-f1005bc39c03"
      },
      "source": [
        "import sys\n",
        "import os\n",
        "from tqdm import tqdm\n",
        "import numpy as np\n",
        "import matplotlib.pyplot as plt\n",
        "\n",
        "#lectura de tiempos del Insertion  Sort\n",
        "with open(\"insertionSort_cpp_time.txt\") as r:\n",
        "    content = r.readlines()\n",
        "\n",
        "content = [x.strip() for x in content]\n",
        "mat = []\n",
        "for line in content:\n",
        "    s = line.split(' ')\n",
        "    sad = [ int(s[0]), float(s[1])]\n",
        "    mat.append(sad)\n",
        "\n",
        "#Lectura de tiempos del Selection Sort\n",
        "with open(\"selectionSort_python_time.txt\") as r1:\n",
        "    content2 = r1.readlines()\n",
        "\n",
        "content2 = [x2.strip() for x2 in content2]\n",
        "mat2 = []\n",
        "for line2 in content2:\n",
        "    s = line2.split(' ')\n",
        "    sad2 = [ int(s[0]), float(s[1])]\n",
        "    mat2.append(sad2)\n",
        "\n",
        "#Lectura de tiempo del HeapSort\n",
        "with open(\"heapsort_python_time.txt\") as r1:\n",
        "    content3 = r1.readlines()\n",
        "\n",
        "content3 = [x3.strip() for x3 in content3]\n",
        "mat3 = []\n",
        "for line3 in content3:\n",
        "    s = line3.split(' ')\n",
        "    sad3 = [ int(s[0]), float(s[1])]\n",
        "    mat3.append(sad3)\n",
        "\n",
        "#Lectura de tiempos del QuickSort\n",
        "with open(\"quicksort_python_time.txt\") as r1:\n",
        "    content4 = r1.readlines()\n",
        "\n",
        "content2 = [x4.strip() for x4 in content4]\n",
        "mat4 = []\n",
        "for line2 in content4:\n",
        "    s = line2.split(' ')\n",
        "    sad4 = [ int(s[0]), float(s[1])]\n",
        "    mat4.append(sad4)\n",
        "\n",
        "#Lectura de tiempos del Counting Sort\n",
        "with open(\"countingSort_python_time.txt\") as r1:\n",
        "    content5 = r1.readlines()\n",
        "\n",
        "content2 = [x5.strip() for x5 in content5]\n",
        "mat5= []\n",
        "for line2 in content5:\n",
        "    s = line2.split(' ')\n",
        "    sad5 = [ int(s[0]), float(s[1])]\n",
        "    mat5.append(sad5)\n",
        "\n",
        "#Lectura de tiempos del Merge Sort\n",
        "with open(\"mergeSort_python_time.txt\") as r1:\n",
        "    content6 = r1.readlines()\n",
        "\n",
        "content2 = [x6.strip() for x6 in content6]\n",
        "mat6= []\n",
        "for line2 in content6:\n",
        "    s = line2.split(' ')\n",
        "    sad6 = [ int(s[0]), float(s[1])]\n",
        "    mat6.append(sad6)\n",
        "\n",
        "#Lectura de tiempos del Bubble Sort\n",
        "with open(\"tiempo_bubble_sort_python.txt\") as r1:\n",
        "    content7 = r1.readlines()\n",
        "\n",
        "content2 = [x7.strip() for x7 in content7]\n",
        "mat7= []\n",
        "for line2 in content7:\n",
        "    s = line2.split(' ')\n",
        "    sad7 = [ int(s[0]), float(s[1])]\n",
        "    mat7.append(sad7)\n",
        "\n",
        "\n",
        "\n",
        "\n",
        "#conviertiendo lista en numpy array\n",
        "selt = np.array(mat)\n",
        "selection = selt.astype(np.float64)\n",
        "\n",
        "inst = np.array(mat2)\n",
        "insertion = inst.astype(np.float64)\n",
        "\n",
        "heap_t = np.array(mat3)\n",
        "heapsort_time = heap_t.astype(np.float64)\n",
        "\n",
        "quick_t = np.array(mat4)\n",
        "quicksort_time = quick_t.astype(np.float64)\n",
        "\n",
        "count_t = np.array(mat5)\n",
        "counting_time = count_t.astype(np.float64)\n",
        "\n",
        "mer_t = np.array(mat6)\n",
        "merge_time = mer_t.astype(np.float64)\n",
        "\n",
        "bub_t = np.array(mat7)\n",
        "bubble_time = bub_t.astype(np.float64)\n",
        "\n",
        "a1, a2 = selt.T\n",
        "b1, b2 = inst.T\n",
        "c1, c2 = heapsort_time.T\n",
        "d1, d2 = quicksort_time.T\n",
        "e1, e2 = counting_time.T\n",
        "f1, f2 = merge_time.T\n",
        "g1, g2 = bubble_time.T\n",
        "\n",
        "#Grafica de las funciones de ordenamiento\n",
        "\n",
        "plt.plot(a1, a2, label='insertion')\n",
        "plt.plot(b1, b2, label='selection')\n",
        "plt.plot(c1, c2, label='heapsort')\n",
        "plt.plot(d1, d2, label='quicksort')\n",
        "plt.plot(e1, e2, label='counting')\n",
        "plt.plot(f1, f2, label='mergesort')\n",
        "plt.plot(g1, g2, label='bubble')\n",
        "\n",
        "\n",
        "plt.xlabel('Data Procesada')\n",
        "plt.ylabel('Tiempo(Segundos)')\n",
        "plt.title(\"Sort Algorithms in Python\")\n",
        "plt.legend()\n",
        "\n",
        "plt.savefig('sort-algorithms-python.png')\n"
      ],
      "execution_count": null,
      "outputs": [
        {
          "output_type": "display_data",
          "data": {
            "image/png": "[encoded data removed]",
            "text/plain": [
              "<Figure size 432x288 with 1 Axes>"
            ]
          },
          "metadata": {
            "tags": [],
            "needs_background": "light"
          }
        }
      ]
    },
    {
      "cell_type": "code",
      "metadata": {
        "colab": {
          "base_uri": "https://localhost:8080/",
          "height": 295
        },
        "id": "3_7J6KEy5J8l",
        "outputId": "4fc13f55-4dde-4576-f94c-d1ed515570ed"
      },
      "source": [
        "\n",
        "#selection sort diagram\n",
        "import sys\n",
        "import os\n",
        "from tqdm import tqdm\n",
        "import numpy as np\n",
        "import matplotlib.pyplot as plt\n",
        "\n",
        "with open(\"selectionSort_python_time.txt\") as r:\n",
        "    content = r.readlines()\n",
        "\n",
        "content = [x.strip() for x in content]\n",
        "mat = []\n",
        "for line in content:\n",
        "    s = line.split(' ')\n",
        "    sad = [ int(s[0]), float(s[1])]\n",
        "    mat.append(sad)\n",
        "\n",
        "with open(\"selectionSort_cpp_time.txt\") as r1:\n",
        "    content2 = r1.readlines()\n",
        "\n",
        "content2 = [x2.strip() for x2 in content2]\n",
        "mat2 = []\n",
        "for line2 in content2:\n",
        "    s = line2.split(' ')\n",
        "    sad2 = [ int(s[0]), float(s[1])]\n",
        "    mat2.append(sad2)\n",
        "\n",
        "with open(\"selectionSort_java_time.txt\") as r2:\n",
        "    content3 = r2.readlines()\n",
        "\n",
        "content3 = [x.strip() for x in content3]\n",
        "mat3 = []\n",
        "for line in content3:\n",
        "    s = line.split(' ')\n",
        "    sad3 = [ int(s[0]), float(s[1])]\n",
        "    mat3.append(sad3)\n",
        "\n",
        "pyt = np.array(mat)\n",
        "python = pyt.astype(np.float64)\n",
        "cpp = np.array(mat2)\n",
        "cplusplus = cpp.astype(np.float64)\n",
        "jav = np.array(mat3)\n",
        "java = jav.astype(np.float64)\n",
        "\n",
        "x, y = pyt.T\n",
        "r, s = cpp.T\n",
        "k, m = jav.T\n",
        "\n",
        "\n",
        "plt.plot(x, y, label='python')\n",
        "plt.plot(x, s, label='c++')\n",
        "plt.plot(x, m, label='java')\n",
        "\n",
        "\n",
        "plt.xlabel('Data Procesada')\n",
        "plt.ylabel('Tiempo (Segundos)')\n",
        "plt.title(\"selection sort\")\n",
        "plt.legend()\n",
        "\n",
        "plt.savefig('selection_diagram.png')\n",
        "#print(selection)\n",
        "#print(data.shape)"
      ],
      "execution_count": null,
      "outputs": [
        {
          "output_type": "display_data",
          "data": {
            "image/png": "[encoded data removed]",
            "text/plain": [
              "<Figure size 432x288 with 1 Axes>"
            ]
          },
          "metadata": {
            "tags": [],
            "needs_background": "light"
          }
        }
      ]
    },
    {
      "cell_type": "code",
      "metadata": {
        "colab": {
          "base_uri": "https://localhost:8080/",
          "height": 295
        },
        "id": "MIfGMSv4VcbX",
        "outputId": "1884c2fa-ef74-4d91-a0dd-43cf52b4b4c1"
      },
      "source": [
        "\n",
        "#insertion sort diagram\n",
        "import sys\n",
        "import os\n",
        "from tqdm import tqdm\n",
        "import numpy as np\n",
        "import matplotlib.pyplot as plt\n",
        "\n",
        "with open(\"insertionSort_python_time.txt\") as r:\n",
        "    content = r.readlines()\n",
        "\n",
        "content = [x.strip() for x in content]\n",
        "mat = []\n",
        "for line in content:\n",
        "    s = line.split(' ')\n",
        "    sad = [ int(s[0]), float(s[1])]\n",
        "    mat.append(sad)\n",
        "\n",
        "with open(\"insertionSort_cpp_time.txt\") as r1:\n",
        "    content2 = r1.readlines()\n",
        "\n",
        "content2 = [x2.strip() for x2 in content2]\n",
        "mat2 = []\n",
        "for line2 in content2:\n",
        "    s = line2.split(' ')\n",
        "    sad2 = [ int(s[0]), float(s[1])]\n",
        "    mat2.append(sad2)\n",
        "\n",
        "with open(\"insertionSort_java_time.txt\") as r2:\n",
        "    content3 = r2.readlines()\n",
        "\n",
        "content3 = [x.strip() for x in content3]\n",
        "mat3 = []\n",
        "for line in content3:\n",
        "    s = line.split(' ')\n",
        "    sad3 = [ int(s[0]), float(s[1])]\n",
        "    mat3.append(sad3)\n",
        "\n",
        "pyt = np.array(mat)\n",
        "python = pyt.astype(np.float64)\n",
        "cpp = np.array(mat2)\n",
        "cplusplus = cpp.astype(np.float64)\n",
        "jav = np.array(mat3)\n",
        "java = jav.astype(np.float64)\n",
        "\n",
        "x, y = pyt.T\n",
        "r, s = cpp.T\n",
        "k, m = jav.T\n",
        "\n",
        "\n",
        "plt.plot(x, y, label='python')\n",
        "plt.plot(x, s, label='c++')\n",
        "plt.plot(x, m, label='java')\n",
        "\n",
        "\n",
        "plt.xlabel('Data Procesada')\n",
        "plt.ylabel('Tiempo (Segundos)')\n",
        "plt.title(\"insertion sort\")\n",
        "plt.legend()\n",
        "\n",
        "plt.savefig('insertion_diagram.png')\n",
        "\n",
        "#print(selection)\n",
        "#print(data.shape)"
      ],
      "execution_count": null,
      "outputs": [
        {
          "output_type": "display_data",
          "data": {
            "image/png": "[encoded data removed]",
            "text/plain": [
              "<Figure size 432x288 with 1 Axes>"
            ]
          },
          "metadata": {
            "tags": [],
            "needs_background": "light"
          }
        }
      ]
    },
    {
      "cell_type": "markdown",
      "metadata": {
        "id": "Jkf0ftbINQlC"
      },
      "source": [
        "# 6. Insertion Sort - Implementacion en java\n"
      ]
    },
    {
      "cell_type": "code",
      "metadata": {
        "colab": {
          "base_uri": "https://localhost:8080/"
        },
        "id": "7QFncPcjN4wS",
        "outputId": "415c4dc1-f569-45cb-fa24-e1ca9b2bca33"
      },
      "source": [
        "\n",
        "import time\n",
        "import os\n",
        "\n",
        "\n",
        "class Bubble:\n",
        "    \n",
        "    tam = 10\n",
        "    archivos = [100, 500, 1000, 2000, 3000, 4000,\n",
        "                5000, 6000, 7000, 8000, 9000,\n",
        "                10000, 20000, 30000, 40000, 50000,\n",
        "                60000, 70000, 80000, 90000, 100000]\n",
        "    \n",
        "    def ejecutar(self):\n",
        "\n",
        "        file = open('tiempo_bubble_sort_python.txt', \"w\")  \n",
        "        for archivo in self.archivos:\n",
        "        \n",
        "            line = \"\"\n",
        "            tam = 0 \n",
        "            arr = []\n",
        "            i = 0\n",
        "            j = 0\n",
        "            \n",
        "            \n",
        "            # RECORRER TXT Y RECOLECTAR DATOS \n",
        "            with open(\"generatedTestData/example_\" + str(archivo) + \".txt\") as file_in:\n",
        "                for line in file_in:\n",
        "                    arr.append(int(line))\n",
        "                    tam += 1\n",
        "         \n",
        "            # BUBBLE SORT Y TIEMPO\n",
        "            tiempo_ini = time.process_time()\n",
        "            for i in range(tam):\n",
        "                for j in range(0, tam - i - 1):\n",
        "                    if arr[j] > arr[j + 1] :\n",
        "                        arr[j], arr[j + 1] = arr[j + 1], arr[j]\n",
        "            tiempo_fin = time.process_time()\n",
        "            \n",
        "            # IMPRIMIR TIEMPO\n",
        "            file.write(str(archivo) + ' ' + str(tiempo_fin - tiempo_ini) +\"\\n\")\n",
        "            print(str(archivo) + \" \" + str(tiempo_fin - tiempo_ini))\n",
        "        file.close()\n",
        "        \n",
        "objeto = Bubble()\n",
        "objeto.ejecutar()"
      ],
      "execution_count": null,
      "outputs": [
        {
          "output_type": "stream",
          "text": [
            "100 0.0009184029999858012\n",
            "500 0.02225684199999023\n",
            "1000 0.09228883200000837\n",
            "2000 0.39455613699999503\n",
            "3000 0.9255051709999975\n",
            "4000 1.6225019759999952\n",
            "5000 2.548945325999995\n",
            "6000 3.721458318999993\n",
            "7000 4.970009267999984\n",
            "8000 6.493338549999976\n",
            "9000 8.201541743999996\n",
            "10000 10.205649205000043\n",
            "20000 41.26534306399998\n",
            "30000 94.298025193\n",
            "40000 173.73773663299994\n",
            "50000 278.23568933\n",
            "60000 412.13889823299996\n",
            "70000 570.8756637480001\n",
            "80000 762.5174489429999\n",
            "90000 980.9107947369998\n",
            "100000 1282.0294186070005\n"
          ],
          "name": "stdout"
        }
      ]
    },
    {
      "cell_type": "code",
      "metadata": {
        "id": "NQufim9aFx2Z",
        "colab": {
          "base_uri": "https://localhost:8080/"
        },
        "outputId": "febcba52-ef6c-4046-ed59-094dce54700c"
      },
      "source": [
        "%%writefile bubble.cpp\n",
        "#include <bits/stdc++.h>\n",
        "#include <iostream>\n",
        "#include <string>\n",
        "#include <sstream>\n",
        "#include <fstream>\n",
        "#include <vector>\n",
        "#include <chrono>\n",
        "#include <thread>\n",
        "#include <iomanip>\n",
        "\n",
        "\n",
        "using namespace std;\n",
        "\n",
        "int main() {\n",
        "\n",
        "    int tam = 21;\n",
        "    int archivos[] = {100, 500, 1000, 2000, 3000, 4000,\n",
        "                        5000, 6000, 7000, 8000, 9000,\n",
        "                        10000, 20000, 30000, 40000, 50000,\n",
        "                        60000, 70000, 80000, 90000, 100000};\n",
        "\n",
        "    //*** recorrer archivos\n",
        "    ofstream myfile;\n",
        "    myfile.open (\"tiempo_bubble_sort_cpp.txt\");\n",
        "    for(int indx=0; indx<tam; indx++){\n",
        "\n",
        "        //*** abrir archivo\n",
        "        string nombreArchivo = \"\";\n",
        "        nombreArchivo.append(\"generatedTestData/example_\").append(to_string(archivos[indx])).append(\".txt\");\n",
        "        ifstream archivo(nombreArchivo.c_str());\n",
        "\n",
        "        //** RECORRER TXT Y RECOLECTAR DATOS\n",
        "        string linea;\n",
        "        std::vector<int> data;\n",
        "        int n=0;\n",
        "        while (getline(archivo, linea)) {\n",
        "            data.push_back(std::stoi(linea));\n",
        "            n++;\n",
        "        }\n",
        "        int arr[n];\n",
        "        for (int i=0; i<data.size(); i++){\n",
        "            arr[i]=data[i];\n",
        "        }\n",
        "\n",
        "        //** BUBBLE SORT Y TIEMPO\n",
        "        int i, j, temp;\n",
        "        \n",
        "        //auto t1 = std::chrono::high_resolution_clock::now();       \n",
        "\n",
        "        //** IMPRIMIR TIEMPO\n",
        "        //auto t2 = std::chrono::high_resolution_clock::now();\n",
        "        //std::chrono::duration<double> elapsed = t2 - t1;\n",
        "        //float miliseg = (float)(elapsed.count());\n",
        "\n",
        "        clock_t start, end;\n",
        "\n",
        "        start = clock();    \n",
        "        for(i = 0; i<n; i++) {\n",
        "           for(j = i+1; j<n; j++){\n",
        "              if(arr[j] < arr[i]) {\n",
        "                 temp = arr[i];\n",
        "                 arr[i] = arr[j];\n",
        "                 arr[j] = temp;\n",
        "              }\n",
        "           }\n",
        "        }\n",
        "        end = clock();\n",
        "\n",
        "        double time_taken = double(end - start) / double(CLOCKS_PER_SEC); \n",
        "\n",
        "        myfile << archivos[indx] << \" \"; \n",
        "        myfile << fixed << time_taken;    \n",
        "        myfile << \"\\n\";\n",
        "\n",
        "        cout<<archivos[indx]<<\" \"<<fixed<<time_taken<<endl;\n",
        "\n",
        "    }\n",
        "    myfile.close();\n",
        "\n",
        "\treturn 0;\n",
        "}\n",
        "\n"
      ],
      "execution_count": null,
      "outputs": [
        {
          "output_type": "stream",
          "text": [
            "Writing bubble.cpp\n"
          ],
          "name": "stdout"
        }
      ]
    },
    {
      "cell_type": "code",
      "metadata": {
        "id": "t68WuPEwIflp",
        "colab": {
          "base_uri": "https://localhost:8080/"
        },
        "outputId": "3c3e9a05-db26-4a7c-a5f2-38a5d0970284"
      },
      "source": [
        "%%script bash\n",
        "\n",
        "g++ bubble.cpp -std=c++14\n",
        "./a.out"
      ],
      "execution_count": null,
      "outputs": [
        {
          "output_type": "stream",
          "text": [
            "100 0.000027\n",
            "500 0.000521\n",
            "1000 0.001952\n",
            "2000 0.008211\n",
            "3000 0.019668\n",
            "4000 0.039175\n",
            "5000 0.065731\n",
            "6000 0.100994\n",
            "7000 0.141507\n",
            "8000 0.189884\n",
            "9000 0.248194\n",
            "10000 0.312856\n",
            "20000 1.351318\n",
            "30000 3.112956\n",
            "40000 5.623926\n",
            "50000 8.887000\n",
            "60000 12.738975\n",
            "70000 17.416302\n",
            "80000 22.907900\n",
            "90000 29.006886\n",
            "100000 35.701633\n"
          ],
          "name": "stdout"
        }
      ]
    },
    {
      "cell_type": "code",
      "metadata": {
        "id": "iQCyXNo5JGq-",
        "colab": {
          "base_uri": "https://localhost:8080/"
        },
        "outputId": "9f07e539-f647-4a8b-d994-800e8ca773e3"
      },
      "source": [
        "%%writefile Bubble_Sort.java\n",
        "/*\n",
        " * To change this license header, choose License Headers in Project Properties.\n",
        " * To change this template file, choose Tools | Templates\n",
        " * and open the template in the editor.\n",
        " */\n",
        "//package maestria_cc_edat;\n",
        "\n",
        "import java.io.*;\n",
        "import java.lang.*;\n",
        "import java.util.ArrayList;\n",
        "\n",
        "/**\n",
        " *\n",
        " * @author crisa\n",
        " */\n",
        "public class Bubble_Sort {\n",
        "    \n",
        "    int tam = 21;\n",
        "    int archivos[] = {100, 500, 1000, 2000, 3000, 4000,\n",
        "                        5000, 6000, 7000, 8000, 9000,\n",
        "                        10000, 20000, 30000, 40000, 50000,\n",
        "                        60000, 70000, 80000, 90000, 100000};\n",
        "    \n",
        "    public Bubble_Sort(){}\n",
        "    \n",
        "    public void Ejecutar(){\n",
        "        try {\n",
        "          PrintWriter writer = new PrintWriter(\"tiempo_bubble_sort_java.txt\");\n",
        "          for(int indx=0; indx<archivos.length; indx++){\n",
        "              Integer arr[] = extraer_data(\"generatedTestData/example_\"+archivos[indx]+\".txt\").toArray(new Integer[0]);\n",
        "              int n = arr.length;  \n",
        "              int temp = 0, i = 0, j = 0;  \n",
        "              long tie_ini = System.nanoTime();\n",
        "              for(i=0; i < n; i++){  \n",
        "                  for(j=1; j < (n-i); j++){  \n",
        "                      if(arr[j-1] > arr[j]){  \n",
        "                          //swap elements  \n",
        "                          temp = arr[j-1];  \n",
        "                          arr[j-1] = arr[j];  \n",
        "                          arr[j] = temp;  \n",
        "                      }  \n",
        "                  }  \n",
        "              }  \n",
        "              long tie_fin = System.nanoTime();\n",
        "              System.out.println(archivos[indx]+\" \"+((double)((double)tie_fin-(double)tie_ini)/1000000000));\n",
        "              writer.println( archivos[indx] + \" \" + ((double)((double)tie_fin-(double)tie_ini)/1000000000));\n",
        "              \n",
        "          }\n",
        "          writer.close();\n",
        "        } catch(Exception e){System.out.println(\"err:\"+e);}\n",
        "        \n",
        "    }\n",
        "    \n",
        "    public ArrayList<Integer> extraer_data(String archivo){\n",
        "        ArrayList<Integer> data = new ArrayList<Integer>();\n",
        "        try{\n",
        "            String tex;\n",
        "            FileReader fr = new FileReader(new File(archivo));\n",
        "            BufferedReader br = new BufferedReader(fr);\n",
        "            while((tex = br.readLine())!=null) {\n",
        "                try{if(!tex.equals(\"\"))data.add(Integer.parseInt(tex));}catch(Exception e){}\n",
        "            }\n",
        "            br.close();\n",
        "        }catch(Exception e){System.out.println(\"err:\"+e);}\n",
        "        return(data);\n",
        "    }\n",
        "\n",
        "    /* Ejecucion */\n",
        "    public static void main(String args[]) \n",
        "    {\n",
        "        Bubble_Sort bubble = new Bubble_Sort();\n",
        "     \n",
        "        bubble.Ejecutar();\n",
        "    }\n",
        "}\n"
      ],
      "execution_count": null,
      "outputs": [
        {
          "output_type": "stream",
          "text": [
            "Writing Bubble_Sort.java\n"
          ],
          "name": "stdout"
        }
      ]
    },
    {
      "cell_type": "code",
      "metadata": {
        "id": "6hR3QDZBKdF3"
      },
      "source": [
        "%%script bash\n",
        "javac Bubble_Sort.java\n",
        "java Bubble_Sort"
      ],
      "execution_count": null,
      "outputs": []
    },
    {
      "cell_type": "code",
      "metadata": {
        "colab": {
          "base_uri": "https://localhost:8080/",
          "height": 295
        },
        "id": "oWI0_pqoYZva",
        "outputId": "a36df6ae-73ce-49a6-d4ef-9773a715363b"
      },
      "source": [
        "import array\n",
        "import os\n",
        "import sys\n",
        "from tqdm import tqdm  \n",
        "import matplotlib.pyplot as plt\n",
        "import numpy as np\n",
        "\n",
        "# (cmd) python -m pip install numpy\n",
        "# (cmd) pip install tqdm\n",
        "# (cmd) python -m pip install -U pip setuptools\n",
        "# (cmd) python -m pip install matplotlib\n",
        "\n",
        "line = \"\"\n",
        "x = []\n",
        "y_python = []\n",
        "y_cpp = []\n",
        "y_java = []\n",
        "\n",
        "# RECORRER TXT Y RECOLECTAR DATOS \n",
        "with open(\"tiempo_bubble_sort_python\" + \".txt\") as file_in:\n",
        "    for line in file_in:\n",
        "        x.append(int(line[0:line.index(\" \")]))\n",
        "        y_python.append(float(line[line.index(\" \") + 1:len(line)]))\n",
        "        \n",
        "with open(\"tiempo_bubble_sort_cpp\" + \".txt\") as file_in:\n",
        "    for line in file_in:\n",
        "        y_cpp.append(float(line[line.index(\" \") + 1:len(line)]))\n",
        "        \n",
        "with open(\"tiempo_bubble_sort_java\" + \".txt\") as file_in:\n",
        "    for line in file_in:\n",
        "        y_java.append(float(line[line.index(\" \") + 1:len(line)]))\n",
        "\n",
        "# EJES, LEYENDA, GRAFICAR, GUARDAR\n",
        "plt.plot(x, y_python, label='python')\n",
        "plt.plot(x, y_cpp, label='c++')\n",
        "plt.plot(x, y_java, label='java')\n",
        "\n",
        "plt.xlabel('Data Procesada')\n",
        "plt.ylabel('Tiempo (Segundos)')\n",
        "plt.title(\"Bubble Sort\")\n",
        "plt.legend()\n",
        "plt.grid()\n",
        "\n",
        "plt.savefig('grafica_bubble_sort.png')\n",
        "plt.show()"
      ],
      "execution_count": null,
      "outputs": [
        {
          "output_type": "display_data",
          "data": {
            "image/png": "[encoded data removed]",
            "text/plain": [
              "<Figure size 432x288 with 1 Axes>"
            ]
          },
          "metadata": {
            "tags": [],
            "needs_background": "light"
          }
        }
      ]
    }
  ]
}